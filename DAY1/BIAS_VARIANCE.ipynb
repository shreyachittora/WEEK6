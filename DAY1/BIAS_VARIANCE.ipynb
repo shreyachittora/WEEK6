{
 "cells": [
  {
   "cell_type": "code",
   "execution_count": 1,
   "id": "3a3427f7-f69e-4c90-ba82-c81bb583f5fa",
   "metadata": {},
   "outputs": [],
   "source": [
    "import numpy as np\n",
    "import pandas as pd\n",
    "import matplotlib.pyplot as plt\n",
    "from sklearn.preprocessing import PolynomialFeatures\n",
    "from sklearn.linear_model import LinearRegression\n",
    "from sklearn.model_selection import train_test_split\n",
    "from sklearn.metrics import mean_squared_error\n"
   ]
  },
  {
   "cell_type": "code",
   "execution_count": null,
   "id": "bb30a23e-9998-4c86-b63d-dce5c7908c74",
   "metadata": {},
   "outputs": [],
   "source": []
  },
  {
   "cell_type": "code",
   "execution_count": 9,
   "id": "1e84632c-b567-4161-b872-68da6a32df4c",
   "metadata": {},
   "outputs": [
    {
     "data": {
      "text/html": [
       "<div>\n",
       "<style scoped>\n",
       "    .dataframe tbody tr th:only-of-type {\n",
       "        vertical-align: middle;\n",
       "    }\n",
       "\n",
       "    .dataframe tbody tr th {\n",
       "        vertical-align: top;\n",
       "    }\n",
       "\n",
       "    .dataframe thead th {\n",
       "        text-align: right;\n",
       "    }\n",
       "</style>\n",
       "<table border=\"1\" class=\"dataframe\">\n",
       "  <thead>\n",
       "    <tr style=\"text-align: right;\">\n",
       "      <th></th>\n",
       "      <th>Temperature</th>\n",
       "      <th>Revenue</th>\n",
       "    </tr>\n",
       "  </thead>\n",
       "  <tbody>\n",
       "    <tr>\n",
       "      <th>0</th>\n",
       "      <td>24.6</td>\n",
       "      <td>535</td>\n",
       "    </tr>\n",
       "    <tr>\n",
       "      <th>1</th>\n",
       "      <td>26.1</td>\n",
       "      <td>626</td>\n",
       "    </tr>\n",
       "    <tr>\n",
       "      <th>2</th>\n",
       "      <td>27.8</td>\n",
       "      <td>661</td>\n",
       "    </tr>\n",
       "    <tr>\n",
       "      <th>3</th>\n",
       "      <td>20.6</td>\n",
       "      <td>488</td>\n",
       "    </tr>\n",
       "    <tr>\n",
       "      <th>4</th>\n",
       "      <td>11.6</td>\n",
       "      <td>317</td>\n",
       "    </tr>\n",
       "  </tbody>\n",
       "</table>\n",
       "</div>"
      ],
      "text/plain": [
       "   Temperature  Revenue\n",
       "0         24.6      535\n",
       "1         26.1      626\n",
       "2         27.8      661\n",
       "3         20.6      488\n",
       "4         11.6      317"
      ]
     },
     "execution_count": 9,
     "metadata": {},
     "output_type": "execute_result"
    }
   ],
   "source": [
    "\n",
    "data = pd.read_csv('icecream_sales.csv')\n",
    "\n",
    "data.head()\n",
    "\n"
   ]
  },
  {
   "cell_type": "code",
   "execution_count": null,
   "id": "c1166e8d-23be-45f5-9850-c40c4ef22b01",
   "metadata": {},
   "outputs": [],
   "source": []
  },
  {
   "cell_type": "code",
   "execution_count": 3,
   "id": "0c227f10-05db-4cd3-9c84-f4bf6457a780",
   "metadata": {},
   "outputs": [],
   "source": [
    "X = data[['Temperature']].values\n",
    "y = data['Revenue'].values\n",
    "\n"
   ]
  },
  {
   "cell_type": "code",
   "execution_count": 4,
   "id": "7ad20132-e7a6-4736-a3ff-144067d304a2",
   "metadata": {},
   "outputs": [],
   "source": [
    "X_train, X_val, y_train, y_val = train_test_split(X, y, test_size=0.2, random_state=42)\n"
   ]
  },
  {
   "cell_type": "code",
   "execution_count": 16,
   "id": "48b79c7b-aa36-4113-a15a-2be000e57e61",
   "metadata": {},
   "outputs": [
    {
     "name": "stdout",
     "output_type": "stream",
     "text": [
      "Degree 1: Train Error = 613.53, Val Error = 652.49\n",
      "Degree 3: Train Error = 610.83, Val Error = 651.55\n",
      "Degree 5: Train Error = 608.74, Val Error = 647.05\n"
     ]
    }
   ],
   "source": [
    "# Degrees of polynomial regression to test\n",
    "degrees = [1, 3, 5]\n",
    "\n",
    "for degree in degrees:\n",
    "    poly = PolynomialFeatures(degree)\n",
    "    X_train_poly = poly.fit_transform(X_train)\n",
    "    X_val_poly = poly.transform(X_val)\n",
    "\n",
    "    model = LinearRegression()\n",
    "    model.fit(X_train_poly, y_train)\n",
    "\n",
    "    train_error = mean_squared_error(y_train, model.predict(X_train_poly))\n",
    "    val_error = mean_squared_error(y_val, model.predict(X_val_poly))\n",
    "\n",
    "    print(f\"Degree {degree}: Train Error = {train_error:.2f}, Val Error = {val_error:.2f}\")"
   ]
  },
  {
   "cell_type": "code",
   "execution_count": null,
   "id": "1640e767-5dd2-40ba-b06b-18e9f4c6fde0",
   "metadata": {},
   "outputs": [],
   "source": []
  },
  {
   "cell_type": "code",
   "execution_count": null,
   "id": "d3748a67-bdf2-4019-a37f-59d0e2bbdea8",
   "metadata": {},
   "outputs": [],
   "source": [
    "\n"
   ]
  },
  {
   "cell_type": "markdown",
   "id": "35d02f68-80d8-4a53-b7eb-60d459e62895",
   "metadata": {},
   "source": [
    "##### Analyze Training vs. Validation Error"
   ]
  },
  {
   "cell_type": "code",
   "execution_count": 17,
   "id": "6e1b0d32-31ba-4ce2-8118-63f5d46b7a29",
   "metadata": {},
   "outputs": [],
   "source": [
    "\n",
    "train_errors, val_errors = [], []\n",
    "\n",
    "for d in range(1, 10):\n",
    "    model = LinearRegression()\n",
    "    X_train_poly = PolynomialFeatures(d).fit_transform(X_train)\n",
    "    X_val_poly = PolynomialFeatures(d).fit_transform(X_val)\n",
    "\n",
    "    model.fit(X_train_poly, y_train)\n",
    "    \n",
    "    train_errors.append(mean_squared_error(y_train, model.predict(X_train_poly)))\n",
    "    val_errors.append(mean_squared_error(y_val, model.predict(X_val_poly)))"
   ]
  },
  {
   "cell_type": "code",
   "execution_count": null,
   "id": "2854e477-b01d-4bf5-93e5-dc9d07b4122f",
   "metadata": {},
   "outputs": [],
   "source": []
  },
  {
   "cell_type": "code",
   "execution_count": 18,
   "id": "c4b549df-08cc-4cec-9b59-58b1a15e8ce1",
   "metadata": {},
   "outputs": [
    {
     "data": {
      "image/png": "[encoded data removed]",
      "text/plain": [
       "<Figure size 800x500 with 1 Axes>"
      ]
     },
     "metadata": {},
     "output_type": "display_data"
    }
   ],
   "source": [
    "\n",
    "plt.plot(range(1, 10), train_errors, label='Training Error', marker='o')\n",
    "plt.plot(range(1, 10), val_errors, label='Validation Error', marker='s')\n",
    "plt.xlabel('Polynomial Degree')\n",
    "plt.ylabel('Mean Squared Error')\n",
    "plt.title('Training vs. Validation Error')\n",
    "plt.legend()\n",
    "plt.show()\n"
   ]
  },
  {
   "cell_type": "code",
   "execution_count": null,
   "id": "61b9fadb-19f8-4524-bf69-ee20c19092b8",
   "metadata": {},
   "outputs": [],
   "source": []
  }
 ],
 "metadata": {
  "kernelspec": {
   "display_name": "Python 3 (ipykernel)",
   "language": "python",
   "name": "python3"
  },
  "language_info": {
   "codemirror_mode": {
    "name": "ipython",
    "version": 3
   },
   "file_extension": ".py",
   "mimetype": "text/x-python",
   "name": "python",
   "nbconvert_exporter": "python",
   "pygments_lexer": "ipython3",
   "version": "3.12.7"
  }
 },
 "nbformat": 4,
 "nbformat_minor": 5
}
