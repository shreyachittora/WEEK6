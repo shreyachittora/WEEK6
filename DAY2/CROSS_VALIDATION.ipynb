{
 "cells": [
  {
   "cell_type": "code",
   "execution_count": 8,
   "id": "3b19c50e-20a1-4f35-8acc-c10e5a43f9bb",
   "metadata": {},
   "outputs": [],
   "source": [
    "import numpy as np\n",
    "import pandas as pd\n",
    "from sklearn.linear_model import LogisticRegression\n",
    "from sklearn.ensemble import RandomForestClassifier\n",
    "from sklearn.preprocessing import StandardScaler\n",
    "from sklearn.model_selection import cross_val_score, KFold\n",
    "from sklearn.datasets import load_iris\n",
    "\n",
    "\n"
   ]
  },
  {
   "cell_type": "code",
   "execution_count": null,
   "id": "db373067-f7df-4645-bf56-d66830fd80c2",
   "metadata": {},
   "outputs": [],
   "source": []
  },
  {
   "cell_type": "code",
   "execution_count": 16,
   "id": "d592709d-1005-48c8-af86-1a0b5ecc1e2e",
   "metadata": {},
   "outputs": [],
   "source": [
    "\n",
    "data = load_iris()\n",
    "\n",
    "X, y = data.data, data.target\n"
   ]
  },
  {
   "cell_type": "code",
   "execution_count": null,
   "id": "98d16f8f-d94b-4e53-9552-2c5f4a46dc25",
   "metadata": {},
   "outputs": [],
   "source": []
  },
  {
   "cell_type": "code",
   "execution_count": 4,
   "id": "a9c7e14e-abb4-45d0-859e-277ef56c5006",
   "metadata": {},
   "outputs": [],
   "source": [
    "\n",
    "models = {\n",
    "    \"Logistic Regression\": LogisticRegression(max_iter=200),\n",
    "    \"Random Forest\": RandomForestClassifier(n_estimators=100)\n",
    "}"
   ]
  },
  {
   "cell_type": "code",
   "execution_count": null,
   "id": "d89875ca-cca6-4f57-9cb1-fee6823fc205",
   "metadata": {},
   "outputs": [],
   "source": []
  },
  {
   "cell_type": "code",
   "execution_count": 5,
   "id": "7d2b2226-6a8e-4d35-b105-9c77127ddd2c",
   "metadata": {},
   "outputs": [],
   "source": [
    "\n",
    "kf = KFold(n_splits=5, shuffle=True, random_state=42)\n",
    "\n"
   ]
  },
  {
   "cell_type": "code",
   "execution_count": null,
   "id": "89c92dd3-a42a-4343-bf4c-632db7adac7f",
   "metadata": {},
   "outputs": [],
   "source": []
  },
  {
   "cell_type": "code",
   "execution_count": 6,
   "id": "a2325cc8-451b-47db-b5f2-d416080ed26b",
   "metadata": {},
   "outputs": [
    {
     "name": "stdout",
     "output_type": "stream",
     "text": [
      "Logistic Regression: Mean Accuracy = 0.9733, Std = 0.0249\n",
      "Random Forest: Mean Accuracy = 0.9600, Std = 0.0249\n"
     ]
    }
   ],
   "source": [
    "\n",
    "for name, model in models.items():\n",
    "    scores = cross_val_score(model, X, y, cv=kf, scoring='accuracy')\n",
    "    print(f\"{name}: Mean Accuracy = {np.mean(scores):.4f}, Std = {np.std(scores):.4f}\")\n",
    "\n",
    "\n",
    "\n"
   ]
  },
  {
   "cell_type": "code",
   "execution_count": null,
   "id": "8803e543-58c7-4a60-9bf4-f141a8be7998",
   "metadata": {},
   "outputs": [],
   "source": [
    "# both the models have approx same accuracy value and std deviation value"
   ]
  }
 ],
 "metadata": {
  "kernelspec": {
   "display_name": "Python 3 (ipykernel)",
   "language": "python",
   "name": "python3"
  },
  "language_info": {
   "codemirror_mode": {
    "name": "ipython",
    "version": 3
   },
   "file_extension": ".py",
   "mimetype": "text/x-python",
   "name": "python",
   "nbconvert_exporter": "python",
   "pygments_lexer": "ipython3",
   "version": "3.12.7"
  }
 },
 "nbformat": 4,
 "nbformat_minor": 5
}
